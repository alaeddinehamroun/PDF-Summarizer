{
 "cells": [
  {
   "cell_type": "code",
   "execution_count": null,
   "metadata": {},
   "outputs": [],
   "source": [
    "# Clustering as a means of summarization\n",
    "# https://pashpashpash.substack.com/p/tackling-the-challenge-of-document\n",
    "# https://github.com/mendableai/QA_clustering/blob/main/notebooks/clustering_approach.ipynb"
   ]
  },
  {
   "cell_type": "code",
   "execution_count": null,
   "metadata": {},
   "outputs": [],
   "source": []
  }
 ],
 "metadata": {
  "language_info": {
   "name": "python"
  }
 },
 "nbformat": 4,
 "nbformat_minor": 2
}
